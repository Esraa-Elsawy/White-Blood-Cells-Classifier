{
  "nbformat": 4,
  "nbformat_minor": 0,
  "metadata": {
    "colab": {
      "name": "EsraaAshrafElsawy_17101335_WhiteBloodCells.ipynb",
      "provenance": [],
      "collapsed_sections": []
    },
    "kernelspec": {
      "name": "python3",
      "display_name": "Python 3"
    },
    "accelerator": "GPU"
  },
  "cells": [
    {
      "cell_type": "code",
      "metadata": {
        "id": "q0idZTXhgh7Q"
      },
      "source": [
        "import numpy as np\n",
        "import pandas as pd\n",
        "from sklearn.utils.multiclass import unique_labels\n",
        "import os\n",
        "import matplotlib.pyplot as plt\n",
        "import matplotlib.image as mpimg\n",
        "import seaborn as sns\n",
        "import itertools\n",
        "from sklearn.model_selection import train_test_split\n",
        "from sklearn.metrics import confusion_matrix\n",
        "from keras import Sequential\n",
        "from keras.applications import VGG19 #For Transfer Learning\n",
        "from keras.preprocessing.image import ImageDataGenerator\n",
        "from keras.optimizers import SGD,Adam\n",
        "from keras.callbacks import ReduceLROnPlateau\n",
        "from keras.layers import Flatten,Dense,BatchNormalization,Activation,Dropout\n",
        "from keras.utils import to_categorical"
      ],
      "execution_count": null,
      "outputs": []
    },
    {
      "cell_type": "code",
      "metadata": {
        "id": "prrM1RIboZKL"
      },
      "source": [
        "train_data_dir = '/content/drive/MyDrive/myOutput'\n",
        "validation_data_dir = '/content/drive/MyDrive/myOutput'\n",
        "batch_size=1\n",
        "img_width,img_height =500,500"
      ],
      "execution_count": null,
      "outputs": []
    },
    {
      "cell_type": "code",
      "metadata": {
        "id": "-MvY8so1ob5u"
      },
      "source": [
        "datagen = ImageDataGenerator(\n",
        "    rescale = 1./255,\n",
        "    shear_range=0.3,\n",
        "    horizontal_flip=True,\n",
        "    rotation_range = 2,\n",
        "    width_shift_range = 0.3,\n",
        "    height_shift_range = 0.3,\n",
        "    validation_split = 0.3\n",
        ")"
      ],
      "execution_count": null,
      "outputs": []
    },
    {
      "cell_type": "code",
      "metadata": {
        "colab": {
          "base_uri": "https://localhost:8080/"
        },
        "id": "te1lBCcXoe84",
        "outputId": "b01cff2e-481e-45a2-ac30-75426eccce2d"
      },
      "source": [
        "train_generator = datagen.flow_from_directory(\n",
        "        train_data_dir,\n",
        "        target_size=(img_width, img_height),\n",
        "        batch_size=batch_size,\n",
        "        subset = \"training\",\n",
        "        class_mode='categorical',\n",
        "        )"
      ],
      "execution_count": null,
      "outputs": [
        {
          "output_type": "stream",
          "text": [
            "Found 171 images belonging to 5 classes.\n"
          ],
          "name": "stdout"
        }
      ]
    },
    {
      "cell_type": "code",
      "metadata": {
        "id": "bMJIIhmmEgAl"
      },
      "source": [
        "#train_generator.samples\n"
      ],
      "execution_count": null,
      "outputs": []
    },
    {
      "cell_type": "code",
      "metadata": {
        "id": "d3UB59TuoiHm"
      },
      "source": [
        "val_datagen = ImageDataGenerator(rescale = 1./255)"
      ],
      "execution_count": null,
      "outputs": []
    },
    {
      "cell_type": "code",
      "metadata": {
        "colab": {
          "base_uri": "https://localhost:8080/"
        },
        "id": "OyYCWLO8ovbo",
        "outputId": "2a2fb22b-3b26-4010-f701-8d1bc877eb38"
      },
      "source": [
        "validation_generator = datagen.flow_from_directory(\n",
        "        validation_data_dir,\n",
        "        target_size=(img_width, img_height),\n",
        "        batch_size=batch_size,\n",
        "        subset = \"validation\",\n",
        "        class_mode='categorical',\n",
        "        )"
      ],
      "execution_count": null,
      "outputs": [
        {
          "output_type": "stream",
          "text": [
            "Found 70 images belonging to 5 classes.\n"
          ],
          "name": "stdout"
        }
      ]
    },
    {
      "cell_type": "code",
      "metadata": {
        "id": "DbVs8XQ-oxdj"
      },
      "source": [
        "lrr= ReduceLROnPlateau(monitor='val_acc', factor=.01, patience=3, min_lr=1e-5)"
      ],
      "execution_count": null,
      "outputs": []
    },
    {
      "cell_type": "code",
      "metadata": {
        "id": "P4WH-sK9ozuA",
        "colab": {
          "base_uri": "https://localhost:8080/"
        },
        "outputId": "149b79f0-78a8-496d-ed16-362e2c3ea1d3"
      },
      "source": [
        "base_model = VGG19(include_top = False, weights = 'imagenet', input_shape = (500,500,3))"
      ],
      "execution_count": null,
      "outputs": [
        {
          "output_type": "stream",
          "text": [
            "Downloading data from https://storage.googleapis.com/tensorflow/keras-applications/vgg19/vgg19_weights_tf_dim_ordering_tf_kernels_notop.h5\n",
            "80142336/80134624 [==============================] - 0s 0us/step\n"
          ],
          "name": "stdout"
        }
      ]
    },
    {
      "cell_type": "code",
      "metadata": {
        "id": "K2-t7YjAo2YV"
      },
      "source": [
        "model= Sequential()\n",
        "model.add(base_model) \n",
        "model.add(Flatten()) "
      ],
      "execution_count": null,
      "outputs": []
    },
    {
      "cell_type": "code",
      "metadata": {
        "colab": {
          "base_uri": "https://localhost:8080/"
        },
        "id": "_5Mur-mCo7KN",
        "outputId": "33a131f4-c780-4680-939d-19432b904d02"
      },
      "source": [
        "model.summary()"
      ],
      "execution_count": null,
      "outputs": [
        {
          "output_type": "stream",
          "text": [
            "Model: \"sequential\"\n",
            "_________________________________________________________________\n",
            "Layer (type)                 Output Shape              Param #   \n",
            "=================================================================\n",
            "vgg19 (Functional)           (None, 15, 15, 512)       20024384  \n",
            "_________________________________________________________________\n",
            "flatten (Flatten)            (None, 115200)            0         \n",
            "=================================================================\n",
            "Total params: 20,024,384\n",
            "Trainable params: 20,024,384\n",
            "Non-trainable params: 0\n",
            "_________________________________________________________________\n"
          ],
          "name": "stdout"
        }
      ]
    },
    {
      "cell_type": "code",
      "metadata": {
        "colab": {
          "base_uri": "https://localhost:8080/"
        },
        "id": "hasNFJ62o_Qe",
        "outputId": "5ca446be-087c-4439-df0a-1acab354dd48"
      },
      "source": [
        "#model.add(Dense(8192,activation=('relu'),input_dim=4096))\n",
        "#model.add(Dense(4096,activation=('relu'))) \n",
        "\n",
        "#model.add(Dense(2048,activation=('relu'))) \n",
        "\n",
        "#model.add(Dense(5,activation=('softmax'))) \n",
        "#model.summary()\n",
        "#--------------\n",
        "model.add(Dense(1024,activation=('relu'),input_dim=512))\n",
        "model.add(Dense(512,activation=('relu'))) \n",
        "model.add(Dropout(.4))\n",
        "model.add(Dense(256,activation=('relu'))) \n",
        "model.add(Dropout(.3))\n",
        "model.add(Dense(128,activation=('relu')))\n",
        "model.add(Dense(5,activation=('softmax'))) \n",
        "\n",
        "model.summary()"
      ],
      "execution_count": null,
      "outputs": [
        {
          "output_type": "stream",
          "text": [
            "Model: \"sequential\"\n",
            "_________________________________________________________________\n",
            "Layer (type)                 Output Shape              Param #   \n",
            "=================================================================\n",
            "vgg19 (Functional)           (None, 15, 15, 512)       20024384  \n",
            "_________________________________________________________________\n",
            "flatten (Flatten)            (None, 115200)            0         \n",
            "_________________________________________________________________\n",
            "dense (Dense)                (None, 1024)              117965824 \n",
            "_________________________________________________________________\n",
            "dense_1 (Dense)              (None, 512)               524800    \n",
            "_________________________________________________________________\n",
            "dropout (Dropout)            (None, 512)               0         \n",
            "_________________________________________________________________\n",
            "dense_2 (Dense)              (None, 256)               131328    \n",
            "_________________________________________________________________\n",
            "dropout_1 (Dropout)          (None, 256)               0         \n",
            "_________________________________________________________________\n",
            "dense_3 (Dense)              (None, 128)               32896     \n",
            "_________________________________________________________________\n",
            "dense_4 (Dense)              (None, 5)                 645       \n",
            "=================================================================\n",
            "Total params: 138,679,877\n",
            "Trainable params: 138,679,877\n",
            "Non-trainable params: 0\n",
            "_________________________________________________________________\n"
          ],
          "name": "stdout"
        }
      ]
    },
    {
      "cell_type": "code",
      "metadata": {
        "id": "zarXqjKMpGf0"
      },
      "source": [
        "batch_size= batch_size\n",
        "epochs=500\n",
        "learn_rate=.00001\n",
        "sgd=SGD(lr=learn_rate,momentum=.9,nesterov=False)\n",
        "adam=Adam(lr=learn_rate, beta_1=0.9, beta_2=0.999, epsilon=None, decay=0.0, amsgrad=False)\n",
        "model.compile(optimizer=sgd,loss='categorical_crossentropy',metrics=['accuracy'])\n",
        "#model.compile(loss='categorical_crossentropy',optimizer = 'adam' ,metrics=['categorical_accuracy'])"
      ],
      "execution_count": null,
      "outputs": []
    },
    {
      "cell_type": "code",
      "metadata": {
        "id": "cDthVmoM4735"
      },
      "source": [
        "import tensorflow as tf\n",
        "class MyThresholdCallback(tf.keras.callbacks.Callback):\n",
        "    def __init__(self, threshold):\n",
        "        super(MyThresholdCallback, self).__init__()\n",
        "        self.threshold = threshold\n",
        "\n",
        "    def on_epoch_end(self, epoch, logs=None): \n",
        "        val_acc = logs[\"val_accuracy\"]\n",
        "        if val_acc >= self.threshold:\n",
        "            self.model.stop_training = True"
      ],
      "execution_count": null,
      "outputs": []
    },
    {
      "cell_type": "code",
      "metadata": {
        "colab": {
          "base_uri": "https://localhost:8080/"
        },
        "id": "CTnZJZqWpOUb",
        "outputId": "d5956833-2230-4b5d-8e1a-ca134dd34870"
      },
      "source": [
        "from keras.callbacks import History\n",
        "my_callback = MyThresholdCallback(threshold=0.8)\n",
        "history = History()\n",
        "model.fit_generator(\n",
        "        train_generator,\n",
        "        steps_per_epoch = int(171/batch_size),\n",
        "        epochs = epochs,\n",
        "        callbacks = [history, my_callback],\n",
        "        verbose = 1,\n",
        "        validation_data = validation_generator,\n",
        "        validation_steps=int(70/batch_size),\n",
        ")"
      ],
      "execution_count": null,
      "outputs": [
        {
          "output_type": "stream",
          "text": [
            "/usr/local/lib/python3.6/dist-packages/tensorflow/python/keras/engine/training.py:1844: UserWarning: `Model.fit_generator` is deprecated and will be removed in a future version. Please use `Model.fit`, which supports generators.\n",
            "  warnings.warn('`Model.fit_generator` is deprecated and '\n"
          ],
          "name": "stderr"
        },
        {
          "output_type": "stream",
          "text": [
            "Epoch 1/500\n",
            "171/171 [==============================] - 119s 649ms/step - loss: 1.7520 - accuracy: 0.2024 - val_loss: 1.6540 - val_accuracy: 0.2143\n",
            "Epoch 2/500\n",
            "171/171 [==============================] - 27s 158ms/step - loss: 1.7085 - accuracy: 0.1993 - val_loss: 1.6280 - val_accuracy: 0.2143\n",
            "Epoch 3/500\n",
            "171/171 [==============================] - 27s 158ms/step - loss: 1.6468 - accuracy: 0.2813 - val_loss: 1.6070 - val_accuracy: 0.2143\n",
            "Epoch 4/500\n",
            "171/171 [==============================] - 27s 156ms/step - loss: 1.7090 - accuracy: 0.1504 - val_loss: 1.6160 - val_accuracy: 0.2143\n",
            "Epoch 5/500\n",
            "171/171 [==============================] - 27s 157ms/step - loss: 1.6908 - accuracy: 0.1129 - val_loss: 1.6232 - val_accuracy: 0.2000\n",
            "Epoch 6/500\n",
            "171/171 [==============================] - 27s 157ms/step - loss: 1.6367 - accuracy: 0.1768 - val_loss: 1.6068 - val_accuracy: 0.2429\n",
            "Epoch 7/500\n",
            "171/171 [==============================] - 27s 156ms/step - loss: 1.6574 - accuracy: 0.2085 - val_loss: 1.6100 - val_accuracy: 0.2143\n",
            "Epoch 8/500\n",
            "171/171 [==============================] - 27s 156ms/step - loss: 1.6105 - accuracy: 0.2210 - val_loss: 1.6126 - val_accuracy: 0.1857\n",
            "Epoch 9/500\n",
            "171/171 [==============================] - 27s 157ms/step - loss: 1.6284 - accuracy: 0.1825 - val_loss: 1.6098 - val_accuracy: 0.2286\n",
            "Epoch 10/500\n",
            "171/171 [==============================] - 27s 156ms/step - loss: 1.6169 - accuracy: 0.2002 - val_loss: 1.6046 - val_accuracy: 0.2143\n",
            "Epoch 11/500\n",
            "171/171 [==============================] - 27s 156ms/step - loss: 1.6132 - accuracy: 0.2478 - val_loss: 1.6081 - val_accuracy: 0.1714\n",
            "Epoch 12/500\n",
            "171/171 [==============================] - 27s 156ms/step - loss: 1.6054 - accuracy: 0.1986 - val_loss: 1.5973 - val_accuracy: 0.2571\n",
            "Epoch 13/500\n",
            "171/171 [==============================] - 27s 155ms/step - loss: 1.6151 - accuracy: 0.2623 - val_loss: 1.6041 - val_accuracy: 0.2714\n",
            "Epoch 14/500\n",
            "171/171 [==============================] - 27s 156ms/step - loss: 1.6058 - accuracy: 0.1870 - val_loss: 1.6021 - val_accuracy: 0.2286\n",
            "Epoch 15/500\n",
            "171/171 [==============================] - 27s 156ms/step - loss: 1.5901 - accuracy: 0.2323 - val_loss: 1.6039 - val_accuracy: 0.2429\n",
            "Epoch 16/500\n",
            "171/171 [==============================] - 27s 157ms/step - loss: 1.5904 - accuracy: 0.3095 - val_loss: 1.6018 - val_accuracy: 0.2286\n",
            "Epoch 17/500\n",
            "171/171 [==============================] - 27s 156ms/step - loss: 1.6009 - accuracy: 0.2751 - val_loss: 1.6073 - val_accuracy: 0.2143\n",
            "Epoch 18/500\n",
            "171/171 [==============================] - 27s 156ms/step - loss: 1.6010 - accuracy: 0.2715 - val_loss: 1.6040 - val_accuracy: 0.2143\n",
            "Epoch 19/500\n",
            "171/171 [==============================] - 27s 156ms/step - loss: 1.5965 - accuracy: 0.2254 - val_loss: 1.6006 - val_accuracy: 0.3286\n",
            "Epoch 20/500\n",
            "171/171 [==============================] - 27s 156ms/step - loss: 1.6171 - accuracy: 0.2371 - val_loss: 1.6014 - val_accuracy: 0.2143\n",
            "Epoch 21/500\n",
            "171/171 [==============================] - 27s 155ms/step - loss: 1.6213 - accuracy: 0.1726 - val_loss: 1.6014 - val_accuracy: 0.3000\n",
            "Epoch 22/500\n",
            "171/171 [==============================] - 27s 155ms/step - loss: 1.5973 - accuracy: 0.2669 - val_loss: 1.6034 - val_accuracy: 0.3000\n",
            "Epoch 23/500\n",
            "171/171 [==============================] - 27s 156ms/step - loss: 1.6011 - accuracy: 0.2521 - val_loss: 1.6015 - val_accuracy: 0.3143\n",
            "Epoch 24/500\n",
            "171/171 [==============================] - 27s 156ms/step - loss: 1.6158 - accuracy: 0.1557 - val_loss: 1.6044 - val_accuracy: 0.2286\n",
            "Epoch 25/500\n",
            "171/171 [==============================] - 27s 156ms/step - loss: 1.5871 - accuracy: 0.2448 - val_loss: 1.6011 - val_accuracy: 0.2286\n",
            "Epoch 26/500\n",
            "171/171 [==============================] - 27s 156ms/step - loss: 1.5968 - accuracy: 0.2745 - val_loss: 1.6019 - val_accuracy: 0.2571\n",
            "Epoch 27/500\n",
            "171/171 [==============================] - 27s 156ms/step - loss: 1.5889 - accuracy: 0.2565 - val_loss: 1.5998 - val_accuracy: 0.2857\n",
            "Epoch 28/500\n",
            "171/171 [==============================] - 27s 156ms/step - loss: 1.6160 - accuracy: 0.1928 - val_loss: 1.5997 - val_accuracy: 0.2571\n",
            "Epoch 29/500\n",
            "171/171 [==============================] - 27s 156ms/step - loss: 1.5986 - accuracy: 0.2410 - val_loss: 1.6005 - val_accuracy: 0.2429\n",
            "Epoch 30/500\n",
            "171/171 [==============================] - 27s 156ms/step - loss: 1.5966 - accuracy: 0.2672 - val_loss: 1.5953 - val_accuracy: 0.3143\n",
            "Epoch 31/500\n",
            "171/171 [==============================] - 27s 156ms/step - loss: 1.5937 - accuracy: 0.2687 - val_loss: 1.5980 - val_accuracy: 0.2286\n",
            "Epoch 32/500\n",
            "171/171 [==============================] - 27s 157ms/step - loss: 1.6074 - accuracy: 0.2735 - val_loss: 1.5860 - val_accuracy: 0.3286\n",
            "Epoch 33/500\n",
            "171/171 [==============================] - 27s 156ms/step - loss: 1.6009 - accuracy: 0.2732 - val_loss: 1.5882 - val_accuracy: 0.3429\n",
            "Epoch 34/500\n",
            "171/171 [==============================] - 27s 156ms/step - loss: 1.6009 - accuracy: 0.2683 - val_loss: 1.5912 - val_accuracy: 0.2714\n",
            "Epoch 35/500\n",
            "171/171 [==============================] - 27s 155ms/step - loss: 1.5946 - accuracy: 0.2829 - val_loss: 1.5904 - val_accuracy: 0.3143\n",
            "Epoch 36/500\n",
            "171/171 [==============================] - 27s 155ms/step - loss: 1.5775 - accuracy: 0.3406 - val_loss: 1.5947 - val_accuracy: 0.3143\n",
            "Epoch 37/500\n",
            "171/171 [==============================] - 27s 156ms/step - loss: 1.5864 - accuracy: 0.3167 - val_loss: 1.5863 - val_accuracy: 0.3143\n",
            "Epoch 38/500\n",
            "171/171 [==============================] - 27s 156ms/step - loss: 1.5886 - accuracy: 0.2613 - val_loss: 1.5794 - val_accuracy: 0.3429\n",
            "Epoch 39/500\n",
            "171/171 [==============================] - 26s 155ms/step - loss: 1.5628 - accuracy: 0.3640 - val_loss: 1.5702 - val_accuracy: 0.3286\n",
            "Epoch 40/500\n",
            "171/171 [==============================] - 27s 155ms/step - loss: 1.5664 - accuracy: 0.4117 - val_loss: 1.5744 - val_accuracy: 0.3429\n",
            "Epoch 41/500\n",
            "171/171 [==============================] - 27s 156ms/step - loss: 1.5609 - accuracy: 0.3576 - val_loss: 1.5721 - val_accuracy: 0.3143\n",
            "Epoch 42/500\n",
            "171/171 [==============================] - 27s 155ms/step - loss: 1.5637 - accuracy: 0.2800 - val_loss: 1.5504 - val_accuracy: 0.3857\n",
            "Epoch 43/500\n",
            "171/171 [==============================] - 27s 156ms/step - loss: 1.5810 - accuracy: 0.3035 - val_loss: 1.5580 - val_accuracy: 0.2857\n",
            "Epoch 44/500\n",
            "171/171 [==============================] - 27s 156ms/step - loss: 1.5590 - accuracy: 0.3098 - val_loss: 1.5284 - val_accuracy: 0.3714\n",
            "Epoch 45/500\n",
            "171/171 [==============================] - 27s 155ms/step - loss: 1.5358 - accuracy: 0.3453 - val_loss: 1.5164 - val_accuracy: 0.4000\n",
            "Epoch 46/500\n",
            "171/171 [==============================] - 27s 156ms/step - loss: 1.5582 - accuracy: 0.3292 - val_loss: 1.5220 - val_accuracy: 0.3143\n",
            "Epoch 47/500\n",
            "171/171 [==============================] - 27s 155ms/step - loss: 1.5119 - accuracy: 0.4876 - val_loss: 1.4940 - val_accuracy: 0.3571\n",
            "Epoch 48/500\n",
            "171/171 [==============================] - 27s 155ms/step - loss: 1.4986 - accuracy: 0.4156 - val_loss: 1.4585 - val_accuracy: 0.4143\n",
            "Epoch 49/500\n",
            "171/171 [==============================] - 27s 157ms/step - loss: 1.4380 - accuracy: 0.3911 - val_loss: 1.4590 - val_accuracy: 0.4143\n",
            "Epoch 50/500\n",
            "171/171 [==============================] - 27s 157ms/step - loss: 1.4907 - accuracy: 0.3925 - val_loss: 1.4550 - val_accuracy: 0.3714\n",
            "Epoch 51/500\n",
            "171/171 [==============================] - 27s 156ms/step - loss: 1.4371 - accuracy: 0.5010 - val_loss: 1.4888 - val_accuracy: 0.3714\n",
            "Epoch 52/500\n",
            "171/171 [==============================] - 27s 156ms/step - loss: 1.4574 - accuracy: 0.3244 - val_loss: 1.4014 - val_accuracy: 0.3857\n",
            "Epoch 53/500\n",
            "171/171 [==============================] - 27s 156ms/step - loss: 1.4122 - accuracy: 0.3654 - val_loss: 1.4096 - val_accuracy: 0.3857\n",
            "Epoch 54/500\n",
            "171/171 [==============================] - 27s 155ms/step - loss: 1.4262 - accuracy: 0.3941 - val_loss: 1.3398 - val_accuracy: 0.4286\n",
            "Epoch 55/500\n",
            "171/171 [==============================] - 27s 156ms/step - loss: 1.3863 - accuracy: 0.3862 - val_loss: 1.3991 - val_accuracy: 0.4571\n",
            "Epoch 56/500\n",
            "171/171 [==============================] - 27s 156ms/step - loss: 1.4426 - accuracy: 0.3259 - val_loss: 1.3360 - val_accuracy: 0.3571\n",
            "Epoch 57/500\n",
            "171/171 [==============================] - 27s 156ms/step - loss: 1.3522 - accuracy: 0.4182 - val_loss: 1.3213 - val_accuracy: 0.4571\n",
            "Epoch 58/500\n",
            "171/171 [==============================] - 27s 156ms/step - loss: 1.4038 - accuracy: 0.3084 - val_loss: 1.3790 - val_accuracy: 0.4286\n",
            "Epoch 59/500\n",
            "171/171 [==============================] - 27s 156ms/step - loss: 1.3243 - accuracy: 0.4419 - val_loss: 1.3776 - val_accuracy: 0.3857\n",
            "Epoch 60/500\n",
            "171/171 [==============================] - 27s 156ms/step - loss: 1.3312 - accuracy: 0.4444 - val_loss: 1.2651 - val_accuracy: 0.4429\n",
            "Epoch 61/500\n",
            "171/171 [==============================] - 27s 155ms/step - loss: 1.2310 - accuracy: 0.5162 - val_loss: 1.3619 - val_accuracy: 0.4286\n",
            "Epoch 62/500\n",
            "171/171 [==============================] - 27s 156ms/step - loss: 1.3184 - accuracy: 0.4184 - val_loss: 1.2502 - val_accuracy: 0.4143\n",
            "Epoch 63/500\n",
            "171/171 [==============================] - 27s 155ms/step - loss: 1.2590 - accuracy: 0.4188 - val_loss: 1.2402 - val_accuracy: 0.4857\n",
            "Epoch 64/500\n",
            "171/171 [==============================] - 27s 155ms/step - loss: 1.2048 - accuracy: 0.4255 - val_loss: 1.2438 - val_accuracy: 0.4571\n",
            "Epoch 65/500\n",
            "171/171 [==============================] - 27s 156ms/step - loss: 1.2900 - accuracy: 0.4342 - val_loss: 1.2389 - val_accuracy: 0.5429\n",
            "Epoch 66/500\n",
            "171/171 [==============================] - 27s 156ms/step - loss: 1.1821 - accuracy: 0.5426 - val_loss: 1.2144 - val_accuracy: 0.5000\n",
            "Epoch 67/500\n",
            "171/171 [==============================] - 27s 156ms/step - loss: 1.1453 - accuracy: 0.4504 - val_loss: 1.5620 - val_accuracy: 0.3429\n",
            "Epoch 68/500\n",
            "171/171 [==============================] - 27s 157ms/step - loss: 1.1874 - accuracy: 0.4919 - val_loss: 1.2867 - val_accuracy: 0.4714\n",
            "Epoch 69/500\n",
            "171/171 [==============================] - 27s 157ms/step - loss: 1.3361 - accuracy: 0.4163 - val_loss: 1.2293 - val_accuracy: 0.4571\n",
            "Epoch 70/500\n",
            "171/171 [==============================] - 27s 155ms/step - loss: 1.2451 - accuracy: 0.4126 - val_loss: 1.2650 - val_accuracy: 0.5429\n",
            "Epoch 71/500\n",
            "171/171 [==============================] - 27s 156ms/step - loss: 1.2592 - accuracy: 0.4486 - val_loss: 1.2751 - val_accuracy: 0.4714\n",
            "Epoch 72/500\n",
            "171/171 [==============================] - 27s 156ms/step - loss: 1.2203 - accuracy: 0.4414 - val_loss: 1.2958 - val_accuracy: 0.4857\n",
            "Epoch 73/500\n",
            "171/171 [==============================] - 27s 156ms/step - loss: 1.1372 - accuracy: 0.4754 - val_loss: 1.2751 - val_accuracy: 0.5143\n",
            "Epoch 74/500\n",
            "171/171 [==============================] - 27s 156ms/step - loss: 1.2058 - accuracy: 0.4293 - val_loss: 1.1381 - val_accuracy: 0.5714\n",
            "Epoch 75/500\n",
            "171/171 [==============================] - 27s 156ms/step - loss: 1.3371 - accuracy: 0.4374 - val_loss: 1.1829 - val_accuracy: 0.5000\n",
            "Epoch 76/500\n",
            "171/171 [==============================] - 26s 154ms/step - loss: 1.3368 - accuracy: 0.4549 - val_loss: 1.2745 - val_accuracy: 0.5000\n",
            "Epoch 77/500\n",
            "171/171 [==============================] - 27s 156ms/step - loss: 1.1543 - accuracy: 0.4897 - val_loss: 1.2122 - val_accuracy: 0.5571\n",
            "Epoch 78/500\n",
            "171/171 [==============================] - 27s 156ms/step - loss: 1.1246 - accuracy: 0.4891 - val_loss: 1.2913 - val_accuracy: 0.5000\n",
            "Epoch 79/500\n",
            "171/171 [==============================] - 27s 155ms/step - loss: 1.1002 - accuracy: 0.4856 - val_loss: 1.1443 - val_accuracy: 0.5286\n",
            "Epoch 80/500\n",
            "171/171 [==============================] - 27s 155ms/step - loss: 1.1296 - accuracy: 0.5068 - val_loss: 1.3325 - val_accuracy: 0.5286\n",
            "Epoch 81/500\n",
            "171/171 [==============================] - 27s 157ms/step - loss: 1.1766 - accuracy: 0.4573 - val_loss: 1.3288 - val_accuracy: 0.5571\n",
            "Epoch 82/500\n",
            "171/171 [==============================] - 27s 156ms/step - loss: 1.1763 - accuracy: 0.4130 - val_loss: 1.2190 - val_accuracy: 0.5143\n",
            "Epoch 83/500\n",
            "171/171 [==============================] - 27s 155ms/step - loss: 0.9932 - accuracy: 0.5021 - val_loss: 1.2566 - val_accuracy: 0.4857\n",
            "Epoch 84/500\n",
            "171/171 [==============================] - 27s 156ms/step - loss: 1.1496 - accuracy: 0.5302 - val_loss: 1.3266 - val_accuracy: 0.4714\n",
            "Epoch 85/500\n",
            "171/171 [==============================] - 27s 156ms/step - loss: 1.0911 - accuracy: 0.5080 - val_loss: 1.1483 - val_accuracy: 0.5429\n",
            "Epoch 86/500\n",
            "171/171 [==============================] - 27s 156ms/step - loss: 1.0551 - accuracy: 0.4878 - val_loss: 1.1675 - val_accuracy: 0.5571\n",
            "Epoch 87/500\n",
            "171/171 [==============================] - 27s 156ms/step - loss: 1.1475 - accuracy: 0.4721 - val_loss: 1.3118 - val_accuracy: 0.5143\n",
            "Epoch 88/500\n",
            "171/171 [==============================] - 27s 156ms/step - loss: 1.0210 - accuracy: 0.5925 - val_loss: 1.1405 - val_accuracy: 0.5429\n",
            "Epoch 89/500\n",
            "171/171 [==============================] - 27s 156ms/step - loss: 1.2432 - accuracy: 0.4142 - val_loss: 1.2886 - val_accuracy: 0.5143\n",
            "Epoch 90/500\n",
            "171/171 [==============================] - 27s 157ms/step - loss: 0.9854 - accuracy: 0.5563 - val_loss: 1.2587 - val_accuracy: 0.4286\n",
            "Epoch 91/500\n",
            "171/171 [==============================] - 27s 156ms/step - loss: 1.0242 - accuracy: 0.5919 - val_loss: 1.1582 - val_accuracy: 0.6143\n",
            "Epoch 92/500\n",
            "171/171 [==============================] - 27s 155ms/step - loss: 1.0390 - accuracy: 0.5896 - val_loss: 1.3652 - val_accuracy: 0.5286\n",
            "Epoch 93/500\n",
            "171/171 [==============================] - 27s 157ms/step - loss: 1.2425 - accuracy: 0.4692 - val_loss: 1.1204 - val_accuracy: 0.5571\n",
            "Epoch 94/500\n",
            "171/171 [==============================] - 27s 156ms/step - loss: 0.9829 - accuracy: 0.5544 - val_loss: 1.3497 - val_accuracy: 0.5429\n",
            "Epoch 95/500\n",
            "171/171 [==============================] - 27s 156ms/step - loss: 0.9668 - accuracy: 0.5214 - val_loss: 1.1356 - val_accuracy: 0.5857\n",
            "Epoch 96/500\n",
            "171/171 [==============================] - 27s 157ms/step - loss: 1.1148 - accuracy: 0.5406 - val_loss: 1.2228 - val_accuracy: 0.5000\n",
            "Epoch 97/500\n",
            "171/171 [==============================] - 27s 156ms/step - loss: 1.0336 - accuracy: 0.5442 - val_loss: 1.2922 - val_accuracy: 0.4857\n",
            "Epoch 98/500\n",
            "171/171 [==============================] - 27s 156ms/step - loss: 1.1011 - accuracy: 0.5070 - val_loss: 1.1520 - val_accuracy: 0.5571\n",
            "Epoch 99/500\n",
            "171/171 [==============================] - 27s 157ms/step - loss: 1.0766 - accuracy: 0.4870 - val_loss: 1.3523 - val_accuracy: 0.5143\n",
            "Epoch 100/500\n",
            "171/171 [==============================] - 27s 156ms/step - loss: 0.8932 - accuracy: 0.6101 - val_loss: 1.4397 - val_accuracy: 0.5000\n",
            "Epoch 101/500\n",
            "171/171 [==============================] - 27s 155ms/step - loss: 1.0056 - accuracy: 0.4714 - val_loss: 1.2942 - val_accuracy: 0.4857\n",
            "Epoch 102/500\n",
            "171/171 [==============================] - 27s 156ms/step - loss: 1.0543 - accuracy: 0.5814 - val_loss: 1.3764 - val_accuracy: 0.5286\n",
            "Epoch 103/500\n",
            "171/171 [==============================] - 27s 157ms/step - loss: 1.0323 - accuracy: 0.5492 - val_loss: 1.1865 - val_accuracy: 0.5143\n",
            "Epoch 104/500\n",
            "171/171 [==============================] - 27s 156ms/step - loss: 1.0293 - accuracy: 0.6315 - val_loss: 1.1988 - val_accuracy: 0.5857\n",
            "Epoch 105/500\n",
            "171/171 [==============================] - 27s 157ms/step - loss: 1.0768 - accuracy: 0.5631 - val_loss: 1.2371 - val_accuracy: 0.5571\n",
            "Epoch 106/500\n",
            "171/171 [==============================] - 26s 155ms/step - loss: 0.9778 - accuracy: 0.6012 - val_loss: 1.3055 - val_accuracy: 0.4571\n",
            "Epoch 107/500\n",
            "171/171 [==============================] - 27s 156ms/step - loss: 0.9315 - accuracy: 0.5746 - val_loss: 1.2161 - val_accuracy: 0.5571\n",
            "Epoch 108/500\n",
            "171/171 [==============================] - 27s 157ms/step - loss: 0.8784 - accuracy: 0.6072 - val_loss: 1.3467 - val_accuracy: 0.5571\n",
            "Epoch 109/500\n",
            "171/171 [==============================] - 27s 156ms/step - loss: 1.0024 - accuracy: 0.5285 - val_loss: 1.2953 - val_accuracy: 0.5714\n",
            "Epoch 110/500\n",
            "171/171 [==============================] - 27s 156ms/step - loss: 0.9616 - accuracy: 0.5146 - val_loss: 1.3432 - val_accuracy: 0.4714\n",
            "Epoch 111/500\n",
            "171/171 [==============================] - 27s 156ms/step - loss: 1.0306 - accuracy: 0.5516 - val_loss: 1.2806 - val_accuracy: 0.6143\n",
            "Epoch 112/500\n",
            "171/171 [==============================] - 27s 156ms/step - loss: 0.8620 - accuracy: 0.5911 - val_loss: 1.3813 - val_accuracy: 0.5714\n",
            "Epoch 113/500\n",
            "171/171 [==============================] - 26s 155ms/step - loss: 0.9470 - accuracy: 0.6022 - val_loss: 1.2018 - val_accuracy: 0.6286\n",
            "Epoch 114/500\n",
            "171/171 [==============================] - 27s 156ms/step - loss: 0.9909 - accuracy: 0.5686 - val_loss: 1.4619 - val_accuracy: 0.4286\n",
            "Epoch 115/500\n",
            "171/171 [==============================] - 27s 156ms/step - loss: 0.8973 - accuracy: 0.6445 - val_loss: 1.4615 - val_accuracy: 0.5000\n",
            "Epoch 116/500\n",
            "171/171 [==============================] - 27s 156ms/step - loss: 0.9528 - accuracy: 0.6215 - val_loss: 1.2989 - val_accuracy: 0.5143\n",
            "Epoch 117/500\n",
            "171/171 [==============================] - 27s 156ms/step - loss: 0.8303 - accuracy: 0.5432 - val_loss: 1.0722 - val_accuracy: 0.6000\n",
            "Epoch 118/500\n",
            "171/171 [==============================] - 27s 156ms/step - loss: 1.0104 - accuracy: 0.5655 - val_loss: 1.2968 - val_accuracy: 0.5000\n",
            "Epoch 119/500\n",
            "171/171 [==============================] - 27s 156ms/step - loss: 0.8832 - accuracy: 0.6448 - val_loss: 1.3070 - val_accuracy: 0.6143\n",
            "Epoch 120/500\n",
            "171/171 [==============================] - 27s 156ms/step - loss: 0.8212 - accuracy: 0.6401 - val_loss: 1.0795 - val_accuracy: 0.6286\n",
            "Epoch 121/500\n",
            "171/171 [==============================] - 27s 156ms/step - loss: 0.9058 - accuracy: 0.6870 - val_loss: 1.1277 - val_accuracy: 0.6857\n",
            "Epoch 122/500\n",
            "171/171 [==============================] - 27s 156ms/step - loss: 0.8234 - accuracy: 0.6952 - val_loss: 1.2059 - val_accuracy: 0.5571\n",
            "Epoch 123/500\n",
            "171/171 [==============================] - 27s 157ms/step - loss: 0.9076 - accuracy: 0.6751 - val_loss: 1.0892 - val_accuracy: 0.6714\n",
            "Epoch 124/500\n",
            "171/171 [==============================] - 27s 155ms/step - loss: 0.9395 - accuracy: 0.6468 - val_loss: 1.2151 - val_accuracy: 0.6000\n",
            "Epoch 125/500\n",
            "171/171 [==============================] - 27s 156ms/step - loss: 0.9493 - accuracy: 0.6397 - val_loss: 1.1573 - val_accuracy: 0.6857\n",
            "Epoch 126/500\n",
            "171/171 [==============================] - 27s 156ms/step - loss: 0.9349 - accuracy: 0.6409 - val_loss: 1.2071 - val_accuracy: 0.6857\n",
            "Epoch 127/500\n",
            "171/171 [==============================] - 27s 156ms/step - loss: 0.9558 - accuracy: 0.5789 - val_loss: 0.9815 - val_accuracy: 0.7143\n",
            "Epoch 128/500\n",
            "171/171 [==============================] - 27s 156ms/step - loss: 0.6214 - accuracy: 0.7795 - val_loss: 1.2843 - val_accuracy: 0.6571\n",
            "Epoch 129/500\n",
            "171/171 [==============================] - 27s 156ms/step - loss: 0.8757 - accuracy: 0.6743 - val_loss: 1.3429 - val_accuracy: 0.6571\n",
            "Epoch 130/500\n",
            "171/171 [==============================] - 27s 156ms/step - loss: 0.7184 - accuracy: 0.7590 - val_loss: 1.1752 - val_accuracy: 0.6286\n",
            "Epoch 131/500\n",
            "171/171 [==============================] - 27s 156ms/step - loss: 0.7823 - accuracy: 0.7424 - val_loss: 1.0345 - val_accuracy: 0.6857\n",
            "Epoch 132/500\n",
            "171/171 [==============================] - 27s 156ms/step - loss: 0.7556 - accuracy: 0.7707 - val_loss: 1.1219 - val_accuracy: 0.7286\n",
            "Epoch 133/500\n",
            "171/171 [==============================] - 27s 157ms/step - loss: 0.8427 - accuracy: 0.7394 - val_loss: 1.2010 - val_accuracy: 0.6571\n",
            "Epoch 134/500\n",
            "171/171 [==============================] - 27s 156ms/step - loss: 0.8173 - accuracy: 0.6746 - val_loss: 1.3330 - val_accuracy: 0.7000\n",
            "Epoch 135/500\n",
            "171/171 [==============================] - 27s 155ms/step - loss: 0.8316 - accuracy: 0.7265 - val_loss: 1.0232 - val_accuracy: 0.7286\n",
            "Epoch 136/500\n",
            "171/171 [==============================] - 27s 157ms/step - loss: 0.6913 - accuracy: 0.7471 - val_loss: 1.4221 - val_accuracy: 0.6000\n",
            "Epoch 137/500\n",
            "171/171 [==============================] - 27s 156ms/step - loss: 0.9416 - accuracy: 0.6326 - val_loss: 1.0740 - val_accuracy: 0.6429\n",
            "Epoch 138/500\n",
            "171/171 [==============================] - 27s 156ms/step - loss: 0.7439 - accuracy: 0.7069 - val_loss: 1.2075 - val_accuracy: 0.7429\n",
            "Epoch 139/500\n",
            "171/171 [==============================] - 27s 156ms/step - loss: 0.6512 - accuracy: 0.7341 - val_loss: 0.8984 - val_accuracy: 0.7286\n",
            "Epoch 140/500\n",
            "171/171 [==============================] - 27s 157ms/step - loss: 0.8174 - accuracy: 0.6901 - val_loss: 0.9751 - val_accuracy: 0.7143\n",
            "Epoch 141/500\n",
            "171/171 [==============================] - 27s 156ms/step - loss: 0.5805 - accuracy: 0.7338 - val_loss: 1.1910 - val_accuracy: 0.7143\n",
            "Epoch 142/500\n",
            "171/171 [==============================] - 27s 156ms/step - loss: 0.8019 - accuracy: 0.7086 - val_loss: 1.1128 - val_accuracy: 0.6429\n",
            "Epoch 143/500\n",
            "171/171 [==============================] - 27s 157ms/step - loss: 0.5639 - accuracy: 0.8254 - val_loss: 1.0965 - val_accuracy: 0.7000\n",
            "Epoch 144/500\n",
            "171/171 [==============================] - 27s 156ms/step - loss: 0.6270 - accuracy: 0.7663 - val_loss: 1.0342 - val_accuracy: 0.7571\n",
            "Epoch 145/500\n",
            "171/171 [==============================] - 27s 155ms/step - loss: 0.5727 - accuracy: 0.7968 - val_loss: 1.2594 - val_accuracy: 0.7000\n",
            "Epoch 146/500\n",
            "171/171 [==============================] - 27s 156ms/step - loss: 0.5760 - accuracy: 0.7953 - val_loss: 1.4625 - val_accuracy: 0.7286\n",
            "Epoch 147/500\n",
            "171/171 [==============================] - 27s 156ms/step - loss: 0.8140 - accuracy: 0.6907 - val_loss: 1.0365 - val_accuracy: 0.7286\n",
            "Epoch 148/500\n",
            "171/171 [==============================] - 27s 156ms/step - loss: 0.5028 - accuracy: 0.8290 - val_loss: 0.9517 - val_accuracy: 0.7286\n",
            "Epoch 149/500\n",
            "171/171 [==============================] - 27s 156ms/step - loss: 0.5258 - accuracy: 0.8152 - val_loss: 1.1384 - val_accuracy: 0.7286\n",
            "Epoch 150/500\n",
            "171/171 [==============================] - 27s 156ms/step - loss: 0.5778 - accuracy: 0.8311 - val_loss: 1.0902 - val_accuracy: 0.6857\n",
            "Epoch 151/500\n",
            "171/171 [==============================] - 27s 157ms/step - loss: 0.6002 - accuracy: 0.7867 - val_loss: 1.0317 - val_accuracy: 0.7000\n",
            "Epoch 152/500\n",
            "171/171 [==============================] - 27s 156ms/step - loss: 0.5613 - accuracy: 0.7461 - val_loss: 1.1609 - val_accuracy: 0.7143\n",
            "Epoch 153/500\n",
            "171/171 [==============================] - 27s 156ms/step - loss: 0.6748 - accuracy: 0.7150 - val_loss: 1.1740 - val_accuracy: 0.7000\n",
            "Epoch 154/500\n",
            "171/171 [==============================] - 27s 156ms/step - loss: 0.5814 - accuracy: 0.8299 - val_loss: 1.0480 - val_accuracy: 0.6857\n",
            "Epoch 155/500\n",
            "171/171 [==============================] - 27s 157ms/step - loss: 0.7095 - accuracy: 0.7748 - val_loss: 1.1232 - val_accuracy: 0.7429\n",
            "Epoch 156/500\n",
            "171/171 [==============================] - 27s 156ms/step - loss: 0.4949 - accuracy: 0.8148 - val_loss: 1.0104 - val_accuracy: 0.7429\n",
            "Epoch 157/500\n",
            "171/171 [==============================] - 27s 156ms/step - loss: 0.6695 - accuracy: 0.7082 - val_loss: 1.3109 - val_accuracy: 0.7429\n",
            "Epoch 158/500\n",
            "171/171 [==============================] - 27s 155ms/step - loss: 0.7215 - accuracy: 0.7238 - val_loss: 1.2711 - val_accuracy: 0.6571\n",
            "Epoch 159/500\n",
            "171/171 [==============================] - 27s 157ms/step - loss: 0.5589 - accuracy: 0.8371 - val_loss: 1.0232 - val_accuracy: 0.7429\n",
            "Epoch 160/500\n",
            "171/171 [==============================] - 27s 157ms/step - loss: 0.5005 - accuracy: 0.7984 - val_loss: 0.9137 - val_accuracy: 0.7286\n",
            "Epoch 161/500\n",
            "171/171 [==============================] - 27s 156ms/step - loss: 0.5481 - accuracy: 0.7459 - val_loss: 1.0775 - val_accuracy: 0.7429\n",
            "Epoch 162/500\n",
            "171/171 [==============================] - 27s 156ms/step - loss: 0.5054 - accuracy: 0.8232 - val_loss: 1.2154 - val_accuracy: 0.7571\n",
            "Epoch 163/500\n",
            "171/171 [==============================] - 27s 156ms/step - loss: 0.5660 - accuracy: 0.7869 - val_loss: 1.0115 - val_accuracy: 0.7571\n",
            "Epoch 164/500\n",
            "171/171 [==============================] - 27s 156ms/step - loss: 0.5487 - accuracy: 0.7895 - val_loss: 1.2165 - val_accuracy: 0.6857\n",
            "Epoch 165/500\n",
            "171/171 [==============================] - 27s 156ms/step - loss: 0.4296 - accuracy: 0.8591 - val_loss: 1.3403 - val_accuracy: 0.7429\n",
            "Epoch 166/500\n",
            "171/171 [==============================] - 27s 157ms/step - loss: 0.5271 - accuracy: 0.7968 - val_loss: 1.9229 - val_accuracy: 0.6143\n",
            "Epoch 167/500\n",
            "171/171 [==============================] - 27s 157ms/step - loss: 0.5814 - accuracy: 0.7691 - val_loss: 0.9076 - val_accuracy: 0.7286\n",
            "Epoch 168/500\n",
            "171/171 [==============================] - 27s 157ms/step - loss: 0.5510 - accuracy: 0.7875 - val_loss: 1.1673 - val_accuracy: 0.7000\n",
            "Epoch 169/500\n",
            "171/171 [==============================] - 27s 156ms/step - loss: 0.4772 - accuracy: 0.7828 - val_loss: 1.1491 - val_accuracy: 0.6857\n",
            "Epoch 170/500\n",
            "171/171 [==============================] - 27s 157ms/step - loss: 0.5042 - accuracy: 0.8316 - val_loss: 0.8732 - val_accuracy: 0.7286\n",
            "Epoch 171/500\n",
            "171/171 [==============================] - 27s 156ms/step - loss: 0.5810 - accuracy: 0.7882 - val_loss: 0.9488 - val_accuracy: 0.7143\n",
            "Epoch 172/500\n",
            "171/171 [==============================] - 27s 156ms/step - loss: 0.5892 - accuracy: 0.7301 - val_loss: 1.0599 - val_accuracy: 0.7000\n",
            "Epoch 173/500\n",
            "171/171 [==============================] - 27s 157ms/step - loss: 0.3449 - accuracy: 0.8577 - val_loss: 1.1184 - val_accuracy: 0.6857\n",
            "Epoch 174/500\n",
            "171/171 [==============================] - 27s 156ms/step - loss: 0.5630 - accuracy: 0.7831 - val_loss: 1.1245 - val_accuracy: 0.6714\n",
            "Epoch 175/500\n",
            "171/171 [==============================] - 27s 156ms/step - loss: 0.5266 - accuracy: 0.7954 - val_loss: 1.2947 - val_accuracy: 0.7143\n",
            "Epoch 176/500\n",
            "171/171 [==============================] - 27s 157ms/step - loss: 0.4347 - accuracy: 0.8467 - val_loss: 0.9507 - val_accuracy: 0.7571\n",
            "Epoch 177/500\n",
            "171/171 [==============================] - 27s 156ms/step - loss: 0.4930 - accuracy: 0.8295 - val_loss: 1.6146 - val_accuracy: 0.6857\n",
            "Epoch 178/500\n",
            "171/171 [==============================] - 27s 157ms/step - loss: 0.2863 - accuracy: 0.9053 - val_loss: 1.0848 - val_accuracy: 0.7286\n",
            "Epoch 179/500\n",
            "171/171 [==============================] - 27s 156ms/step - loss: 0.4588 - accuracy: 0.8439 - val_loss: 1.3860 - val_accuracy: 0.6714\n",
            "Epoch 180/500\n",
            "171/171 [==============================] - 27s 156ms/step - loss: 0.4464 - accuracy: 0.7984 - val_loss: 1.3116 - val_accuracy: 0.6286\n",
            "Epoch 181/500\n",
            "171/171 [==============================] - 27s 157ms/step - loss: 0.5052 - accuracy: 0.8229 - val_loss: 1.1078 - val_accuracy: 0.7286\n",
            "Epoch 182/500\n",
            "171/171 [==============================] - 27s 156ms/step - loss: 0.3846 - accuracy: 0.8595 - val_loss: 1.4934 - val_accuracy: 0.6714\n",
            "Epoch 183/500\n",
            "171/171 [==============================] - 27s 156ms/step - loss: 0.5036 - accuracy: 0.7951 - val_loss: 0.9781 - val_accuracy: 0.7000\n",
            "Epoch 184/500\n",
            "171/171 [==============================] - 27s 157ms/step - loss: 0.4769 - accuracy: 0.7797 - val_loss: 1.0566 - val_accuracy: 0.6857\n",
            "Epoch 185/500\n",
            "171/171 [==============================] - 27s 156ms/step - loss: 0.5108 - accuracy: 0.8136 - val_loss: 0.7478 - val_accuracy: 0.7571\n",
            "Epoch 186/500\n",
            "171/171 [==============================] - 27s 156ms/step - loss: 0.3188 - accuracy: 0.8485 - val_loss: 1.4685 - val_accuracy: 0.6714\n",
            "Epoch 187/500\n",
            "171/171 [==============================] - 27s 156ms/step - loss: 0.4325 - accuracy: 0.8460 - val_loss: 1.2324 - val_accuracy: 0.6857\n",
            "Epoch 188/500\n",
            "171/171 [==============================] - 27s 156ms/step - loss: 0.3852 - accuracy: 0.8569 - val_loss: 0.9779 - val_accuracy: 0.7571\n",
            "Epoch 189/500\n",
            "171/171 [==============================] - 27s 156ms/step - loss: 0.5090 - accuracy: 0.8360 - val_loss: 0.8425 - val_accuracy: 0.7857\n",
            "Epoch 190/500\n",
            "171/171 [==============================] - 27s 156ms/step - loss: 0.4040 - accuracy: 0.8456 - val_loss: 1.1753 - val_accuracy: 0.7286\n",
            "Epoch 191/500\n",
            "171/171 [==============================] - 27s 156ms/step - loss: 0.4090 - accuracy: 0.8098 - val_loss: 1.1493 - val_accuracy: 0.7714\n",
            "Epoch 192/500\n",
            "171/171 [==============================] - 27s 157ms/step - loss: 0.3612 - accuracy: 0.8877 - val_loss: 0.9051 - val_accuracy: 0.7286\n",
            "Epoch 193/500\n",
            "171/171 [==============================] - 27s 157ms/step - loss: 0.3626 - accuracy: 0.8968 - val_loss: 0.9166 - val_accuracy: 0.7286\n",
            "Epoch 194/500\n",
            "171/171 [==============================] - 27s 155ms/step - loss: 0.4242 - accuracy: 0.8314 - val_loss: 0.8175 - val_accuracy: 0.7429\n",
            "Epoch 195/500\n",
            "171/171 [==============================] - 27s 156ms/step - loss: 0.2575 - accuracy: 0.9056 - val_loss: 1.0611 - val_accuracy: 0.7429\n",
            "Epoch 196/500\n",
            "171/171 [==============================] - 27s 157ms/step - loss: 0.3942 - accuracy: 0.8311 - val_loss: 1.1715 - val_accuracy: 0.6857\n",
            "Epoch 197/500\n",
            "171/171 [==============================] - 27s 157ms/step - loss: 0.3794 - accuracy: 0.8471 - val_loss: 1.0042 - val_accuracy: 0.7143\n",
            "Epoch 198/500\n",
            "171/171 [==============================] - 27s 156ms/step - loss: 0.3810 - accuracy: 0.8667 - val_loss: 0.9644 - val_accuracy: 0.7286\n",
            "Epoch 199/500\n",
            "171/171 [==============================] - 27s 156ms/step - loss: 0.3075 - accuracy: 0.8978 - val_loss: 1.5189 - val_accuracy: 0.6857\n",
            "Epoch 200/500\n",
            "171/171 [==============================] - 27s 157ms/step - loss: 0.3939 - accuracy: 0.8211 - val_loss: 1.1468 - val_accuracy: 0.7714\n",
            "Epoch 201/500\n",
            "171/171 [==============================] - 27s 156ms/step - loss: 0.4484 - accuracy: 0.8426 - val_loss: 1.2168 - val_accuracy: 0.7571\n",
            "Epoch 202/500\n",
            "171/171 [==============================] - 27s 156ms/step - loss: 0.3164 - accuracy: 0.9030 - val_loss: 1.0864 - val_accuracy: 0.7714\n",
            "Epoch 203/500\n",
            "171/171 [==============================] - 27s 156ms/step - loss: 0.3167 - accuracy: 0.8646 - val_loss: 1.0845 - val_accuracy: 0.7714\n",
            "Epoch 204/500\n",
            "171/171 [==============================] - 27s 157ms/step - loss: 0.4246 - accuracy: 0.8398 - val_loss: 1.1240 - val_accuracy: 0.7000\n",
            "Epoch 205/500\n",
            "171/171 [==============================] - 27s 156ms/step - loss: 0.3951 - accuracy: 0.8068 - val_loss: 0.8551 - val_accuracy: 0.6714\n",
            "Epoch 206/500\n",
            "171/171 [==============================] - 27s 157ms/step - loss: 0.2457 - accuracy: 0.9183 - val_loss: 1.2723 - val_accuracy: 0.7429\n",
            "Epoch 207/500\n",
            "171/171 [==============================] - 27s 156ms/step - loss: 0.3443 - accuracy: 0.8761 - val_loss: 1.2106 - val_accuracy: 0.7571\n",
            "Epoch 208/500\n",
            "171/171 [==============================] - 27s 156ms/step - loss: 0.2165 - accuracy: 0.9193 - val_loss: 1.2509 - val_accuracy: 0.7429\n",
            "Epoch 209/500\n",
            "171/171 [==============================] - 27s 156ms/step - loss: 0.3282 - accuracy: 0.8987 - val_loss: 1.5249 - val_accuracy: 0.7571\n",
            "Epoch 210/500\n",
            "171/171 [==============================] - 27s 156ms/step - loss: 0.3626 - accuracy: 0.8469 - val_loss: 0.9930 - val_accuracy: 0.7286\n",
            "Epoch 211/500\n",
            "171/171 [==============================] - 27s 155ms/step - loss: 0.2860 - accuracy: 0.8874 - val_loss: 1.2026 - val_accuracy: 0.7571\n",
            "Epoch 212/500\n",
            "171/171 [==============================] - 27s 157ms/step - loss: 0.2169 - accuracy: 0.9195 - val_loss: 1.3924 - val_accuracy: 0.7429\n",
            "Epoch 213/500\n",
            "171/171 [==============================] - 27s 157ms/step - loss: 0.3594 - accuracy: 0.8275 - val_loss: 1.1843 - val_accuracy: 0.6857\n",
            "Epoch 214/500\n",
            "171/171 [==============================] - 27s 157ms/step - loss: 0.3561 - accuracy: 0.8750 - val_loss: 1.0274 - val_accuracy: 0.7429\n",
            "Epoch 215/500\n",
            "171/171 [==============================] - 27s 156ms/step - loss: 0.2490 - accuracy: 0.9053 - val_loss: 1.2752 - val_accuracy: 0.6857\n",
            "Epoch 216/500\n",
            "171/171 [==============================] - 27s 157ms/step - loss: 0.4740 - accuracy: 0.8225 - val_loss: 1.0848 - val_accuracy: 0.7000\n",
            "Epoch 217/500\n",
            "171/171 [==============================] - 27s 156ms/step - loss: 0.2987 - accuracy: 0.8932 - val_loss: 0.9980 - val_accuracy: 0.7429\n",
            "Epoch 218/500\n",
            "171/171 [==============================] - 27s 157ms/step - loss: 0.2185 - accuracy: 0.9240 - val_loss: 1.4326 - val_accuracy: 0.6857\n",
            "Epoch 219/500\n",
            "171/171 [==============================] - 27s 156ms/step - loss: 0.2734 - accuracy: 0.8839 - val_loss: 1.1967 - val_accuracy: 0.7571\n",
            "Epoch 220/500\n",
            "171/171 [==============================] - 27s 156ms/step - loss: 0.3635 - accuracy: 0.8469 - val_loss: 1.1140 - val_accuracy: 0.7286\n",
            "Epoch 221/500\n",
            "171/171 [==============================] - 27s 157ms/step - loss: 0.2723 - accuracy: 0.8999 - val_loss: 0.8677 - val_accuracy: 0.7000\n",
            "Epoch 222/500\n",
            "171/171 [==============================] - 27s 157ms/step - loss: 0.2839 - accuracy: 0.9031 - val_loss: 1.2011 - val_accuracy: 0.7143\n",
            "Epoch 223/500\n",
            "171/171 [==============================] - 27s 156ms/step - loss: 0.3048 - accuracy: 0.8484 - val_loss: 0.9712 - val_accuracy: 0.7143\n",
            "Epoch 224/500\n",
            "171/171 [==============================] - 27s 157ms/step - loss: 0.2792 - accuracy: 0.8595 - val_loss: 1.1343 - val_accuracy: 0.7000\n",
            "Epoch 225/500\n",
            "171/171 [==============================] - 27s 156ms/step - loss: 0.2660 - accuracy: 0.8904 - val_loss: 1.0221 - val_accuracy: 0.7286\n",
            "Epoch 226/500\n",
            "171/171 [==============================] - 27s 155ms/step - loss: 0.1762 - accuracy: 0.9701 - val_loss: 1.3146 - val_accuracy: 0.7714\n",
            "Epoch 227/500\n",
            "171/171 [==============================] - 27s 156ms/step - loss: 0.5897 - accuracy: 0.8493 - val_loss: 1.3781 - val_accuracy: 0.7429\n",
            "Epoch 228/500\n",
            "171/171 [==============================] - 27s 155ms/step - loss: 0.2699 - accuracy: 0.9102 - val_loss: 1.5264 - val_accuracy: 0.7429\n",
            "Epoch 229/500\n",
            "171/171 [==============================] - 27s 156ms/step - loss: 0.1516 - accuracy: 0.9460 - val_loss: 1.3072 - val_accuracy: 0.7429\n",
            "Epoch 230/500\n",
            "171/171 [==============================] - 27s 156ms/step - loss: 0.2041 - accuracy: 0.9104 - val_loss: 1.3232 - val_accuracy: 0.7571\n",
            "Epoch 231/500\n",
            "171/171 [==============================] - 27s 156ms/step - loss: 0.1940 - accuracy: 0.9226 - val_loss: 1.2834 - val_accuracy: 0.7571\n",
            "Epoch 232/500\n",
            "171/171 [==============================] - 27s 156ms/step - loss: 0.3185 - accuracy: 0.8904 - val_loss: 1.5469 - val_accuracy: 0.6857\n",
            "Epoch 233/500\n",
            "171/171 [==============================] - 27s 155ms/step - loss: 0.3130 - accuracy: 0.8759 - val_loss: 0.8683 - val_accuracy: 0.7857\n",
            "Epoch 234/500\n",
            "171/171 [==============================] - 27s 155ms/step - loss: 0.3597 - accuracy: 0.8343 - val_loss: 1.3613 - val_accuracy: 0.6571\n",
            "Epoch 235/500\n",
            "171/171 [==============================] - 27s 157ms/step - loss: 0.2489 - accuracy: 0.8831 - val_loss: 1.1932 - val_accuracy: 0.7286\n",
            "Epoch 236/500\n",
            "171/171 [==============================] - 27s 157ms/step - loss: 0.2760 - accuracy: 0.8694 - val_loss: 0.8640 - val_accuracy: 0.7857\n",
            "Epoch 237/500\n",
            "171/171 [==============================] - 27s 157ms/step - loss: 0.2209 - accuracy: 0.9103 - val_loss: 0.7098 - val_accuracy: 0.8000\n"
          ],
          "name": "stdout"
        },
        {
          "output_type": "execute_result",
          "data": {
            "text/plain": [
              "<tensorflow.python.keras.callbacks.History at 0x7fc32cec7470>"
            ]
          },
          "metadata": {
            "tags": []
          },
          "execution_count": 15
        }
      ]
    },
    {
      "cell_type": "code",
      "metadata": {
        "id": "8dagSryYpT36",
        "colab": {
          "base_uri": "https://localhost:8080/"
        },
        "outputId": "bb9e9b88-c6bc-4364-83d3-3aa77ab6a7a2"
      },
      "source": [
        "model.save('/content/drive/MyDrive/SavedModels')\n"
      ],
      "execution_count": null,
      "outputs": [
        {
          "output_type": "stream",
          "text": [
            "INFO:tensorflow:Assets written to: /content/drive/MyDrive/SavedModels/assets\n"
          ],
          "name": "stdout"
        }
      ]
    },
    {
      "cell_type": "code",
      "metadata": {
        "colab": {
          "base_uri": "https://localhost:8080/",
          "height": 282
        },
        "id": "oRxfiFpx9Rmp",
        "outputId": "b4ce5871-5c9e-411b-b7a4-8adf3343f0a3"
      },
      "source": [
        "ax=plt.subplots(1,1) \n",
        "#Loss\n",
        "#ax[0].plot(model.history.history['loss'],color='b',label='Training Loss')\n",
        "#ax[0].plot(model.history.history['val_loss'],color='r',label='Validation Loss')\n",
        "\n",
        "#Accuracy\n",
        "ax[1].plot(model.history.history['accuracy'],color='b',label='Training  Accuracy')\n",
        "ax[1].plot(model.history.history['val_accuracy'],color='r',label='Validation Accuracy')"
      ],
      "execution_count": null,
      "outputs": [
        {
          "output_type": "execute_result",
          "data": {
            "text/plain": [
              "[<matplotlib.lines.Line2D at 0x7fc2ce760828>]"
            ]
          },
          "metadata": {
            "tags": []
          },
          "execution_count": 17
        },
        {
          "output_type": "display_data",
          "data": {
            "image/png": "[encoded data removed]",
            "text/plain": [
              "<Figure size 432x288 with 1 Axes>"
            ]
          },
          "metadata": {
            "tags": [],
            "needs_background": "light"
          }
        }
      ]
    },
    {
      "cell_type": "code",
      "metadata": {
        "colab": {
          "base_uri": "https://localhost:8080/",
          "height": 342
        },
        "id": "QhPF3QK-_S9S",
        "outputId": "4a06d61b-4612-4c3e-9a28-22647e912acd"
      },
      "source": [
        "import numpy as np\n",
        "import matplotlib.pyplot as plt\n",
        "# Pre-Processing test data same as train data.\n",
        "img_width=500\n",
        "img_height=500\n",
        "#model.compile(optimizer='adam',loss='categorical_crossentropy',metrics=['accuracy'])\n",
        "\n",
        "from keras.preprocessing import image\n",
        "\n",
        "def prepare(img_path):\n",
        "    img = image.load_img(img_path, target_size=(500, 500))\n",
        "    x = image.img_to_array(img)\n",
        "    x = x/255\n",
        "    return np.expand_dims(x, axis=0)\n",
        "    \n",
        "    \n",
        "result = model.predict_classes([prepare('/content/drive/MyDrive/TestImageBaso.bmp')])\n",
        "img = image.load_img('/content/drive/MyDrive/TestImageBaso.bmp')\n",
        "plt.imshow(img)\n",
        "print (result)"
      ],
      "execution_count": null,
      "outputs": [
        {
          "output_type": "stream",
          "text": [
            "/usr/local/lib/python3.6/dist-packages/tensorflow/python/keras/engine/sequential.py:450: UserWarning: `model.predict_classes()` is deprecated and will be removed after 2021-01-01. Please use instead:* `np.argmax(model.predict(x), axis=-1)`,   if your model does multi-class classification   (e.g. if it uses a `softmax` last-layer activation).* `(model.predict(x) > 0.5).astype(\"int32\")`,   if your model does binary classification   (e.g. if it uses a `sigmoid` last-layer activation).\n",
            "  warnings.warn('`model.predict_classes()` is deprecated and '\n"
          ],
          "name": "stderr"
        },
        {
          "output_type": "stream",
          "text": [
            "[0]\n"
          ],
          "name": "stdout"
        },
        {
          "output_type": "display_data",
          "data": {
            "image/png": "[encoded data removed]",
            "text/plain": [
              "<Figure size 432x288 with 1 Axes>"
            ]
          },
          "metadata": {
            "tags": [],
            "needs_background": "light"
          }
        }
      ]
    }
  ]
}